{
 "cells": [
  {
   "cell_type": "code",
   "execution_count": 1,
   "id": "e193026d-2cf6-420a-a80d-1ac1d1e50a9c",
   "metadata": {},
   "outputs": [],
   "source": [
    "import fitz\n",
    "import os\n",
    "\n",
    "def extract_disaster_management(pdf_path):\n",
    "    doc = fitz.open(pdf_path)\n",
    "    \n",
    "    # State tracking\n",
    "    current_disaster_type = \"\"\n",
    "    current_content = []\n",
    "    current_pages = []\n",
    "    extracted_records = []\n",
    "    \n",
    "    def save_current_record():\n",
    "        \"\"\"Save current disaster record if we have content\"\"\"\n",
    "        if current_content and current_disaster_type:\n",
    "            content_text = \" \".join(current_content).strip()\n",
    "            if content_text:\n",
    "                record = {\n",
    "                    'disaster_type': current_disaster_type,\n",
    "                    'content': content_text,\n",
    "                    'pages': list(set(current_pages)),  # Remove duplicates\n",
    "                    'source': 'Disaster Management India'\n",
    "                }\n",
    "                extracted_records.append(record)\n",
    "    \n",
    "    # Process each page\n",
    "    for page_num in range(len(doc)):\n",
    "        page = doc.load_page(page_num)\n",
    "        blocks = page.get_text(\"dict\")\n",
    "        \n",
    "        for block in blocks[\"blocks\"]:\n",
    "            if \"lines\" not in block:\n",
    "                continue\n",
    "                \n",
    "            for line in block[\"lines\"]:\n",
    "                for span in line[\"spans\"]:\n",
    "                    text = span[\"text\"].strip()\n",
    "                    font = span[\"font\"]\n",
    "                    size = span[\"size\"]\n",
    "                    \n",
    "                    if not text:\n",
    "                        continue\n",
    "                    \n",
    "                    # DISASTER TYPE (Font size 23.5)\n",
    "                    if size == 23.5:\n",
    "                        # Save previous disaster record\n",
    "                        save_current_record()\n",
    "                        \n",
    "                        # Start new disaster\n",
    "                        current_disaster_type = text\n",
    "                        current_content = []\n",
    "                        current_pages = []\n",
    "                        \n",
    "                        print(f\"Found disaster type: {current_disaster_type}\")\n",
    "                    \n",
    "                    # CONTENT (Everything else)\n",
    "                    else:\n",
    "                        # Skip very short text and numbers\n",
    "                        if (len(text) > 3 and \n",
    "                            not text.isdigit() and \n",
    "                            current_disaster_type):\n",
    "                            \n",
    "                            current_content.append(text)\n",
    "                            current_pages.append(page_num + 1)\n",
    "    \n",
    "    # Save final disaster record\n",
    "    save_current_record()\n",
    "    \n",
    "    doc.close()\n",
    "    return extracted_records\n",
    "\n"
   ]
  },
  {
   "cell_type": "code",
   "execution_count": 2,
   "id": "010ce3a9-60d3-4010-ac7f-1408219ab66e",
   "metadata": {},
   "outputs": [
    {
     "name": "stdout",
     "output_type": "stream",
     "text": [
      "Found disaster type: Cyclone: Do's & Dont's\n",
      "Found disaster type: Tsunami\n",
      "Found disaster type: Heat wave: Do's & Dont's\n",
      "Found disaster type: Landslide: Do's & Dont's\n",
      "Found disaster type: Urban Floods: Do’s & Don’ts\n",
      "Found disaster type: Floods: Do’s & Don’ts\n",
      "Found disaster type: Earthquakes: Do’s & Don’ts\n",
      "Found disaster type: Emergency Response Support System\n"
     ]
    }
   ],
   "source": [
    "# Usage\n",
    "disaster_data = extract_disaster_management(\"../datasets/disaster_management/natural_hazards_disaster_management_india.pdf\")\n"
   ]
  },
  {
   "cell_type": "code",
   "execution_count": 5,
   "id": "86dac8d1-ce94-4a9a-b4f9-e67882d9383e",
   "metadata": {},
   "outputs": [],
   "source": [
    "import json\n",
    "with open(\"../datasets/disaster_management/disaster_management_structured_data_extract.json\", 'w', encoding='utf-8') as f:\n",
    "    json.dump(disaster_data, f, ensure_ascii=False, indent=2)"
   ]
  },
  {
   "cell_type": "code",
   "execution_count": null,
   "id": "13ef6e4b-02f7-415b-991f-ef45c087013f",
   "metadata": {},
   "outputs": [],
   "source": []
  }
 ],
 "metadata": {
  "kernelspec": {
   "display_name": "Python 3 (ipykernel)",
   "language": "python",
   "name": "python3"
  },
  "language_info": {
   "codemirror_mode": {
    "name": "ipython",
    "version": 3
   },
   "file_extension": ".py",
   "mimetype": "text/x-python",
   "name": "python",
   "nbconvert_exporter": "python",
   "pygments_lexer": "ipython3",
   "version": "3.11.13"
  }
 },
 "nbformat": 4,
 "nbformat_minor": 5
}
